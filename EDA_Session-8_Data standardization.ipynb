{
 "cells": [
  {
   "cell_type": "code",
   "execution_count": 1,
   "id": "d1f162cb",
   "metadata": {},
   "outputs": [
    {
     "data": {
      "text/html": [
       "<div>\n",
       "<style scoped>\n",
       "    .dataframe tbody tr th:only-of-type {\n",
       "        vertical-align: middle;\n",
       "    }\n",
       "\n",
       "    .dataframe tbody tr th {\n",
       "        vertical-align: top;\n",
       "    }\n",
       "\n",
       "    .dataframe thead th {\n",
       "        text-align: right;\n",
       "    }\n",
       "</style>\n",
       "<table border=\"1\" class=\"dataframe\">\n",
       "  <thead>\n",
       "    <tr style=\"text-align: right;\">\n",
       "      <th></th>\n",
       "      <th>case_id</th>\n",
       "      <th>continent</th>\n",
       "      <th>education_of_employee</th>\n",
       "      <th>has_job_experience</th>\n",
       "      <th>requires_job_training</th>\n",
       "      <th>no_of_employees</th>\n",
       "      <th>yr_of_estab</th>\n",
       "      <th>region_of_employment</th>\n",
       "      <th>prevailing_wage</th>\n",
       "      <th>unit_of_wage</th>\n",
       "      <th>full_time_position</th>\n",
       "      <th>case_status</th>\n",
       "    </tr>\n",
       "  </thead>\n",
       "  <tbody>\n",
       "    <tr>\n",
       "      <th>0</th>\n",
       "      <td>EZYV01</td>\n",
       "      <td>Asia</td>\n",
       "      <td>High School</td>\n",
       "      <td>N</td>\n",
       "      <td>N</td>\n",
       "      <td>14513</td>\n",
       "      <td>2007</td>\n",
       "      <td>West</td>\n",
       "      <td>592.2029</td>\n",
       "      <td>Hour</td>\n",
       "      <td>Y</td>\n",
       "      <td>Denied</td>\n",
       "    </tr>\n",
       "    <tr>\n",
       "      <th>1</th>\n",
       "      <td>EZYV02</td>\n",
       "      <td>Asia</td>\n",
       "      <td>Master's</td>\n",
       "      <td>Y</td>\n",
       "      <td>N</td>\n",
       "      <td>2412</td>\n",
       "      <td>2002</td>\n",
       "      <td>Northeast</td>\n",
       "      <td>83425.6500</td>\n",
       "      <td>Year</td>\n",
       "      <td>Y</td>\n",
       "      <td>Certified</td>\n",
       "    </tr>\n",
       "    <tr>\n",
       "      <th>2</th>\n",
       "      <td>EZYV03</td>\n",
       "      <td>Asia</td>\n",
       "      <td>Bachelor's</td>\n",
       "      <td>N</td>\n",
       "      <td>Y</td>\n",
       "      <td>44444</td>\n",
       "      <td>2008</td>\n",
       "      <td>West</td>\n",
       "      <td>122996.8600</td>\n",
       "      <td>Year</td>\n",
       "      <td>Y</td>\n",
       "      <td>Denied</td>\n",
       "    </tr>\n",
       "  </tbody>\n",
       "</table>\n",
       "</div>"
      ],
      "text/plain": [
       "  case_id continent education_of_employee has_job_experience  \\\n",
       "0  EZYV01      Asia           High School                  N   \n",
       "1  EZYV02      Asia              Master's                  Y   \n",
       "2  EZYV03      Asia            Bachelor's                  N   \n",
       "\n",
       "  requires_job_training  no_of_employees  yr_of_estab region_of_employment  \\\n",
       "0                     N            14513         2007                 West   \n",
       "1                     N             2412         2002            Northeast   \n",
       "2                     Y            44444         2008                 West   \n",
       "\n",
       "   prevailing_wage unit_of_wage full_time_position case_status  \n",
       "0         592.2029         Hour                  Y      Denied  \n",
       "1       83425.6500         Year                  Y   Certified  \n",
       "2      122996.8600         Year                  Y      Denied  "
      ]
     },
     "execution_count": 1,
     "metadata": {},
     "output_type": "execute_result"
    }
   ],
   "source": [
    "import numpy as np\n",
    "import pandas as pd\n",
    "import matplotlib.pyplot as plt\n",
    "import seaborn as sns\n",
    "\n",
    "path=r\"C:\\Users\\omkar\\OneDrive\\Documents\\Data science\\Naresh IT\\Datafiles\\Visadataset.csv\"\n",
    "visa_df=pd.read_csv(path)\n",
    "visa_df.head(3)"
   ]
  },
  {
   "cell_type": "markdown",
   "id": "c44cfb4e",
   "metadata": {},
   "source": [
    "**Standardization**\n",
    "\n",
    "- Standardization means scaling the data into one scale\n",
    "\n",
    "- We have different columns has different units so that the value will vary\n",
    "\n",
    "- One column has very huge values\n",
    "\n",
    "- Another column has very less values\n",
    "\n",
    "- So it is important to scale all type of units under one scale\n",
    "\n",
    "- We have 2 procedures\n",
    "\n",
    "- Standrdization\n",
    "\n",
    "    - Z-score:\n",
    "        \n",
    "        <img class=\"XqHOTb IGEbUc\" alt=\"Z = \\frac{x - \\mu}{\\sigma}\" src=\"https://www.gstatic.com/education/formulas2/553212783/en/z_score.svg\" role=\"img\" data-csiid=\"24\" data-atf=\"0\">\n",
    "        \n",
    "        - the values ranges from -3 to 3"
   ]
  },
  {
   "cell_type": "markdown",
   "id": "4d754549",
   "metadata": {},
   "source": [
    "- Normalization\n",
    "\n",
    "    - Min max scalar\n",
    "    \n",
    "<img style=\"height:109px;margin-left:-102px;margin-top:25px;width:459px\" alt=\"Min–max normalization - Hands-On Machine Learning on Google ...\" id=\"dimg_1\" src=\"data:image/png;base64,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\" data-csiid=\"1\" data-atf=\"1\">\n",
    "\n",
    "\n",
    "- Values ranges from  0 to 1"
   ]
  },
  {
   "cell_type": "code",
   "execution_count": null,
   "id": "efdc3f0a",
   "metadata": {},
   "outputs": [],
   "source": [
    "# step-1:Take the prevalaing wage column\n",
    "# Z-score = x-mean/sigma \n",
    "\n",
    "# Step-2:  Calculate mean of prevailing wage\n",
    "# step-3: Calculate std of prewage\n",
    "# Step-4: Nr:  Pwage-mean\n",
    "# Step-5: pwage_zscore=Nr/Dr"
   ]
  },
  {
   "cell_type": "code",
   "execution_count": 3,
   "id": "a08c438d",
   "metadata": {},
   "outputs": [],
   "source": [
    "pwage=visa_df['prevailing_wage']\n",
    "pwage_mean=visa_df['prevailing_wage'].mean()\n",
    "pwage_std=visa_df['prevailing_wage'].std()\n",
    "Nr=pwage-pwage_mean\n",
    "visa_df['prevailing_wage_z']=Nr/pwage_std"
   ]
  },
  {
   "cell_type": "code",
   "execution_count": 5,
   "id": "5e20ceaf",
   "metadata": {},
   "outputs": [
    {
     "data": {
      "text/html": [
       "<div>\n",
       "<style scoped>\n",
       "    .dataframe tbody tr th:only-of-type {\n",
       "        vertical-align: middle;\n",
       "    }\n",
       "\n",
       "    .dataframe tbody tr th {\n",
       "        vertical-align: top;\n",
       "    }\n",
       "\n",
       "    .dataframe thead th {\n",
       "        text-align: right;\n",
       "    }\n",
       "</style>\n",
       "<table border=\"1\" class=\"dataframe\">\n",
       "  <thead>\n",
       "    <tr style=\"text-align: right;\">\n",
       "      <th></th>\n",
       "      <th>prevailing_wage</th>\n",
       "      <th>prevailing_wage_z</th>\n",
       "    </tr>\n",
       "  </thead>\n",
       "  <tbody>\n",
       "    <tr>\n",
       "      <th>0</th>\n",
       "      <td>592.2029</td>\n",
       "      <td>-1.398510</td>\n",
       "    </tr>\n",
       "    <tr>\n",
       "      <th>1</th>\n",
       "      <td>83425.6500</td>\n",
       "      <td>0.169832</td>\n",
       "    </tr>\n",
       "    <tr>\n",
       "      <th>2</th>\n",
       "      <td>122996.8600</td>\n",
       "      <td>0.919060</td>\n",
       "    </tr>\n",
       "    <tr>\n",
       "      <th>3</th>\n",
       "      <td>83434.0300</td>\n",
       "      <td>0.169991</td>\n",
       "    </tr>\n",
       "    <tr>\n",
       "      <th>4</th>\n",
       "      <td>149907.3900</td>\n",
       "      <td>1.428576</td>\n",
       "    </tr>\n",
       "    <tr>\n",
       "      <th>...</th>\n",
       "      <td>...</td>\n",
       "      <td>...</td>\n",
       "    </tr>\n",
       "    <tr>\n",
       "      <th>25475</th>\n",
       "      <td>77092.5700</td>\n",
       "      <td>0.049923</td>\n",
       "    </tr>\n",
       "    <tr>\n",
       "      <th>25476</th>\n",
       "      <td>279174.7900</td>\n",
       "      <td>3.876083</td>\n",
       "    </tr>\n",
       "    <tr>\n",
       "      <th>25477</th>\n",
       "      <td>146298.8500</td>\n",
       "      <td>1.360253</td>\n",
       "    </tr>\n",
       "    <tr>\n",
       "      <th>25478</th>\n",
       "      <td>86154.7700</td>\n",
       "      <td>0.221504</td>\n",
       "    </tr>\n",
       "    <tr>\n",
       "      <th>25479</th>\n",
       "      <td>70876.9100</td>\n",
       "      <td>-0.067762</td>\n",
       "    </tr>\n",
       "  </tbody>\n",
       "</table>\n",
       "<p>25480 rows × 2 columns</p>\n",
       "</div>"
      ],
      "text/plain": [
       "       prevailing_wage  prevailing_wage_z\n",
       "0             592.2029          -1.398510\n",
       "1           83425.6500           0.169832\n",
       "2          122996.8600           0.919060\n",
       "3           83434.0300           0.169991\n",
       "4          149907.3900           1.428576\n",
       "...                ...                ...\n",
       "25475       77092.5700           0.049923\n",
       "25476      279174.7900           3.876083\n",
       "25477      146298.8500           1.360253\n",
       "25478       86154.7700           0.221504\n",
       "25479       70876.9100          -0.067762\n",
       "\n",
       "[25480 rows x 2 columns]"
      ]
     },
     "execution_count": 5,
     "metadata": {},
     "output_type": "execute_result"
    }
   ],
   "source": [
    "visa_df[['prevailing_wage','prevailing_wage_z']]"
   ]
  },
  {
   "cell_type": "code",
   "execution_count": 7,
   "id": "61ea0530",
   "metadata": {},
   "outputs": [
    {
     "data": {
      "text/plain": [
       "(319210.27, 4.634101837909902)"
      ]
     },
     "execution_count": 7,
     "metadata": {},
     "output_type": "execute_result"
    }
   ],
   "source": [
    "visa_df['prevailing_wage'].max(),visa_df['prevailing_wage_z'].max()\n",
    "# 99.7% data between -3 to 3"
   ]
  },
  {
   "cell_type": "code",
   "execution_count": 8,
   "id": "da6e80ce",
   "metadata": {},
   "outputs": [
    {
     "data": {
      "text/plain": [
       "21077"
      ]
     },
     "execution_count": 8,
     "metadata": {},
     "output_type": "execute_result"
    }
   ],
   "source": [
    "visa_df['prevailing_wage'].idxmax()\n",
    "# In the prevailing_wage column the maximum value id is 21077"
   ]
  },
  {
   "cell_type": "code",
   "execution_count": 9,
   "id": "5f5e9726",
   "metadata": {},
   "outputs": [
    {
     "data": {
      "text/plain": [
       "21077"
      ]
     },
     "execution_count": 9,
     "metadata": {},
     "output_type": "execute_result"
    }
   ],
   "source": [
    "visa_df['prevailing_wage_z'].idxmax()"
   ]
  },
  {
   "cell_type": "code",
   "execution_count": 10,
   "id": "578f6fd8",
   "metadata": {},
   "outputs": [
    {
     "data": {
      "text/plain": [
       "(2.1367, -1.4096818992891214)"
      ]
     },
     "execution_count": 10,
     "metadata": {},
     "output_type": "execute_result"
    }
   ],
   "source": [
    "visa_df['prevailing_wage'].min(),visa_df['prevailing_wage_z'].min()"
   ]
  },
  {
   "cell_type": "code",
   "execution_count": 11,
   "id": "71c98919",
   "metadata": {},
   "outputs": [
    {
     "data": {
      "text/plain": [
       "20575"
      ]
     },
     "execution_count": 11,
     "metadata": {},
     "output_type": "execute_result"
    }
   ],
   "source": [
    "visa_df['prevailing_wage'].idxmin()"
   ]
  },
  {
   "cell_type": "code",
   "execution_count": 14,
   "id": "e349e938",
   "metadata": {},
   "outputs": [
    {
     "data": {
      "text/html": [
       "<div>\n",
       "<style scoped>\n",
       "    .dataframe tbody tr th:only-of-type {\n",
       "        vertical-align: middle;\n",
       "    }\n",
       "\n",
       "    .dataframe tbody tr th {\n",
       "        vertical-align: top;\n",
       "    }\n",
       "\n",
       "    .dataframe thead th {\n",
       "        text-align: right;\n",
       "    }\n",
       "</style>\n",
       "<table border=\"1\" class=\"dataframe\">\n",
       "  <thead>\n",
       "    <tr style=\"text-align: right;\">\n",
       "      <th></th>\n",
       "      <th>case_id</th>\n",
       "      <th>continent</th>\n",
       "      <th>education_of_employee</th>\n",
       "      <th>has_job_experience</th>\n",
       "      <th>requires_job_training</th>\n",
       "      <th>no_of_employees</th>\n",
       "      <th>yr_of_estab</th>\n",
       "      <th>region_of_employment</th>\n",
       "      <th>prevailing_wage</th>\n",
       "      <th>unit_of_wage</th>\n",
       "      <th>full_time_position</th>\n",
       "      <th>case_status</th>\n",
       "      <th>prevailing_wage_z</th>\n",
       "    </tr>\n",
       "  </thead>\n",
       "  <tbody>\n",
       "    <tr>\n",
       "      <th>21077</th>\n",
       "      <td>EZYV21078</td>\n",
       "      <td>Asia</td>\n",
       "      <td>High School</td>\n",
       "      <td>N</td>\n",
       "      <td>N</td>\n",
       "      <td>442</td>\n",
       "      <td>2006</td>\n",
       "      <td>Midwest</td>\n",
       "      <td>319210.2700</td>\n",
       "      <td>Year</td>\n",
       "      <td>Y</td>\n",
       "      <td>Denied</td>\n",
       "      <td>4.634102</td>\n",
       "    </tr>\n",
       "    <tr>\n",
       "      <th>20575</th>\n",
       "      <td>EZYV20576</td>\n",
       "      <td>North America</td>\n",
       "      <td>Master's</td>\n",
       "      <td>N</td>\n",
       "      <td>N</td>\n",
       "      <td>1552</td>\n",
       "      <td>2004</td>\n",
       "      <td>Northeast</td>\n",
       "      <td>2.1367</td>\n",
       "      <td>Hour</td>\n",
       "      <td>Y</td>\n",
       "      <td>Certified</td>\n",
       "      <td>-1.409682</td>\n",
       "    </tr>\n",
       "  </tbody>\n",
       "</table>\n",
       "</div>"
      ],
      "text/plain": [
       "         case_id      continent education_of_employee has_job_experience  \\\n",
       "21077  EZYV21078           Asia           High School                  N   \n",
       "20575  EZYV20576  North America              Master's                  N   \n",
       "\n",
       "      requires_job_training  no_of_employees  yr_of_estab  \\\n",
       "21077                     N              442         2006   \n",
       "20575                     N             1552         2004   \n",
       "\n",
       "      region_of_employment  prevailing_wage unit_of_wage full_time_position  \\\n",
       "21077              Midwest      319210.2700         Year                  Y   \n",
       "20575            Northeast           2.1367         Hour                  Y   \n",
       "\n",
       "      case_status  prevailing_wage_z  \n",
       "21077      Denied           4.634102  \n",
       "20575   Certified          -1.409682  "
      ]
     },
     "execution_count": 14,
     "metadata": {},
     "output_type": "execute_result"
    }
   ],
   "source": [
    "# 21077 is max value id\n",
    "# 20575 is min value id\n",
    "# can you get only these two rows values\n",
    "visa_df.iloc[[21077,20575]]"
   ]
  },
  {
   "cell_type": "code",
   "execution_count": 17,
   "id": "d59bab07",
   "metadata": {},
   "outputs": [
    {
     "data": {
      "text/html": [
       "<div>\n",
       "<style scoped>\n",
       "    .dataframe tbody tr th:only-of-type {\n",
       "        vertical-align: middle;\n",
       "    }\n",
       "\n",
       "    .dataframe tbody tr th {\n",
       "        vertical-align: top;\n",
       "    }\n",
       "\n",
       "    .dataframe thead th {\n",
       "        text-align: right;\n",
       "    }\n",
       "</style>\n",
       "<table border=\"1\" class=\"dataframe\">\n",
       "  <thead>\n",
       "    <tr style=\"text-align: right;\">\n",
       "      <th></th>\n",
       "      <th>prevailing_wage</th>\n",
       "      <th>prevailing_wage_z</th>\n",
       "    </tr>\n",
       "  </thead>\n",
       "  <tbody>\n",
       "    <tr>\n",
       "      <th>2107</th>\n",
       "      <td>56741.4400</td>\n",
       "      <td>-0.335398</td>\n",
       "    </tr>\n",
       "    <tr>\n",
       "      <th>20575</th>\n",
       "      <td>2.1367</td>\n",
       "      <td>-1.409682</td>\n",
       "    </tr>\n",
       "  </tbody>\n",
       "</table>\n",
       "</div>"
      ],
      "text/plain": [
       "       prevailing_wage  prevailing_wage_z\n",
       "2107        56741.4400          -0.335398\n",
       "20575           2.1367          -1.409682"
      ]
     },
     "execution_count": 17,
     "metadata": {},
     "output_type": "execute_result"
    }
   ],
   "source": [
    "cols=['prevailing_wage','prevailing_wage_z']\n",
    "ids=[2107,20575]\n",
    "visa_df[['prevailing_wage','prevailing_wage_z']].iloc[[2107,20575]]\n",
    "visa_df[cols].iloc[ids]"
   ]
  },
  {
   "cell_type": "code",
   "execution_count": null,
   "id": "abf970c1",
   "metadata": {},
   "outputs": [],
   "source": [
    "# Generally will overwrite the column values\n",
    "# because we want to clean our data before we apply ML model\n",
    "# If you create any extra columns make sure drop some of non required columns"
   ]
  },
  {
   "cell_type": "markdown",
   "id": "a236daa5",
   "metadata": {},
   "source": [
    "$StandardScalar$"
   ]
  },
  {
   "cell_type": "code",
   "execution_count": 22,
   "id": "9835fcdc",
   "metadata": {},
   "outputs": [],
   "source": [
    "# read the package\n",
    "# save the pcakage\n",
    "# apply fit trans\n",
    "from sklearn.preprocessing import StandardScaler\n",
    "ss=StandardScaler()\n",
    "visa_df['prevailing_wage_ss']=ss.fit_transform(visa_df[['prevailing_wage']])"
   ]
  },
  {
   "cell_type": "code",
   "execution_count": 23,
   "id": "54e9730c",
   "metadata": {},
   "outputs": [
    {
     "data": {
      "text/html": [
       "<div>\n",
       "<style scoped>\n",
       "    .dataframe tbody tr th:only-of-type {\n",
       "        vertical-align: middle;\n",
       "    }\n",
       "\n",
       "    .dataframe tbody tr th {\n",
       "        vertical-align: top;\n",
       "    }\n",
       "\n",
       "    .dataframe thead th {\n",
       "        text-align: right;\n",
       "    }\n",
       "</style>\n",
       "<table border=\"1\" class=\"dataframe\">\n",
       "  <thead>\n",
       "    <tr style=\"text-align: right;\">\n",
       "      <th></th>\n",
       "      <th>prevailing_wage</th>\n",
       "      <th>prevailing_wage_z</th>\n",
       "      <th>prevailing_wage_ss</th>\n",
       "    </tr>\n",
       "  </thead>\n",
       "  <tbody>\n",
       "    <tr>\n",
       "      <th>0</th>\n",
       "      <td>592.2029</td>\n",
       "      <td>-1.398510</td>\n",
       "      <td>-1.398537</td>\n",
       "    </tr>\n",
       "    <tr>\n",
       "      <th>1</th>\n",
       "      <td>83425.6500</td>\n",
       "      <td>0.169832</td>\n",
       "      <td>0.169835</td>\n",
       "    </tr>\n",
       "    <tr>\n",
       "      <th>2</th>\n",
       "      <td>122996.8600</td>\n",
       "      <td>0.919060</td>\n",
       "      <td>0.919079</td>\n",
       "    </tr>\n",
       "    <tr>\n",
       "      <th>3</th>\n",
       "      <td>83434.0300</td>\n",
       "      <td>0.169991</td>\n",
       "      <td>0.169994</td>\n",
       "    </tr>\n",
       "    <tr>\n",
       "      <th>4</th>\n",
       "      <td>149907.3900</td>\n",
       "      <td>1.428576</td>\n",
       "      <td>1.428604</td>\n",
       "    </tr>\n",
       "    <tr>\n",
       "      <th>...</th>\n",
       "      <td>...</td>\n",
       "      <td>...</td>\n",
       "      <td>...</td>\n",
       "    </tr>\n",
       "    <tr>\n",
       "      <th>25475</th>\n",
       "      <td>77092.5700</td>\n",
       "      <td>0.049923</td>\n",
       "      <td>0.049924</td>\n",
       "    </tr>\n",
       "    <tr>\n",
       "      <th>25476</th>\n",
       "      <td>279174.7900</td>\n",
       "      <td>3.876083</td>\n",
       "      <td>3.876159</td>\n",
       "    </tr>\n",
       "    <tr>\n",
       "      <th>25477</th>\n",
       "      <td>146298.8500</td>\n",
       "      <td>1.360253</td>\n",
       "      <td>1.360280</td>\n",
       "    </tr>\n",
       "    <tr>\n",
       "      <th>25478</th>\n",
       "      <td>86154.7700</td>\n",
       "      <td>0.221504</td>\n",
       "      <td>0.221509</td>\n",
       "    </tr>\n",
       "    <tr>\n",
       "      <th>25479</th>\n",
       "      <td>70876.9100</td>\n",
       "      <td>-0.067762</td>\n",
       "      <td>-0.067763</td>\n",
       "    </tr>\n",
       "  </tbody>\n",
       "</table>\n",
       "<p>25480 rows × 3 columns</p>\n",
       "</div>"
      ],
      "text/plain": [
       "       prevailing_wage  prevailing_wage_z  prevailing_wage_ss\n",
       "0             592.2029          -1.398510           -1.398537\n",
       "1           83425.6500           0.169832            0.169835\n",
       "2          122996.8600           0.919060            0.919079\n",
       "3           83434.0300           0.169991            0.169994\n",
       "4          149907.3900           1.428576            1.428604\n",
       "...                ...                ...                 ...\n",
       "25475       77092.5700           0.049923            0.049924\n",
       "25476      279174.7900           3.876083            3.876159\n",
       "25477      146298.8500           1.360253            1.360280\n",
       "25478       86154.7700           0.221504            0.221509\n",
       "25479       70876.9100          -0.067762           -0.067763\n",
       "\n",
       "[25480 rows x 3 columns]"
      ]
     },
     "execution_count": 23,
     "metadata": {},
     "output_type": "execute_result"
    }
   ],
   "source": [
    "cols=['prevailing_wage','prevailing_wage_z','prevailing_wage_ss']\n",
    "visa_df[cols]"
   ]
  },
  {
   "cell_type": "markdown",
   "id": "db95b963",
   "metadata": {},
   "source": [
    "**Normalization**\n",
    "\n",
    "$min$$max$$scalar$"
   ]
  },
  {
   "cell_type": "code",
   "execution_count": 24,
   "id": "7604a9a1",
   "metadata": {},
   "outputs": [],
   "source": [
    "# Read the data agian\n",
    "path=r\"C:\\Users\\omkar\\OneDrive\\Documents\\Data science\\Naresh IT\\Datafiles\\Visadataset.csv\"\n",
    "visa_df=pd.read_csv(path)"
   ]
  },
  {
   "cell_type": "code",
   "execution_count": 26,
   "id": "5238e417",
   "metadata": {},
   "outputs": [],
   "source": [
    "# x-x_min/(x_max-x_min)\n",
    "\n",
    "# step-1: Read the pawge column\n",
    "# step-2: Find the min value of the pwage column\n",
    "# step-2: Find the max value of the pwage column\n",
    "# Step-3: nr= datacolumn-min value\n",
    "# Step-4: dr= max_value-min_value\n",
    "# Step-5: nr/dr\n",
    "pwage=visa_df['prevailing_wage']\n",
    "pwage_min=visa_df['prevailing_wage'].min()\n",
    "pwage_max=visa_df['prevailing_wage'].max()\n",
    "nr=pwage-pwage_min\n",
    "dr=pwage_max-pwage_min\n",
    "visa_df['prevailing_wage_norm']=nr/dr"
   ]
  },
  {
   "cell_type": "code",
   "execution_count": 28,
   "id": "3f6cc1d3",
   "metadata": {},
   "outputs": [
    {
     "data": {
      "text/plain": [
       "(0.0, 1.0)"
      ]
     },
     "execution_count": 28,
     "metadata": {},
     "output_type": "execute_result"
    }
   ],
   "source": [
    "visa_df['prevailing_wage_norm'].min(),visa_df['prevailing_wage_norm'].max()"
   ]
  },
  {
   "cell_type": "markdown",
   "id": "62f0cfa0",
   "metadata": {},
   "source": [
    "$MinMaxScalar$"
   ]
  },
  {
   "cell_type": "code",
   "execution_count": 30,
   "id": "c2f8b350",
   "metadata": {},
   "outputs": [],
   "source": [
    "from sklearn.preprocessing import MinMaxScaler\n",
    "mms=MinMaxScaler()\n",
    "visa_df['prevailing_wage_mms']=mms.fit_transform(visa_df[['prevailing_wage']])"
   ]
  },
  {
   "cell_type": "code",
   "execution_count": null,
   "id": "25c9bc84",
   "metadata": {},
   "outputs": [],
   "source": []
  }
 ],
 "metadata": {
  "kernelspec": {
   "display_name": "Python 3 (ipykernel)",
   "language": "python",
   "name": "python3"
  },
  "language_info": {
   "codemirror_mode": {
    "name": "ipython",
    "version": 3
   },
   "file_extension": ".py",
   "mimetype": "text/x-python",
   "name": "python",
   "nbconvert_exporter": "python",
   "pygments_lexer": "ipython3",
   "version": "3.11.5"
  }
 },
 "nbformat": 4,
 "nbformat_minor": 5
}
